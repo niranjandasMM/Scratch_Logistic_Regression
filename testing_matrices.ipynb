{
 "cells": [
  {
   "cell_type": "code",
   "execution_count": 1,
   "id": "451774f5-5174-44e8-a247-1938c8878de8",
   "metadata": {
    "tags": []
   },
   "outputs": [],
   "source": [
    "import pandas as pd\n",
    "import numpy as np"
   ]
  },
  {
   "cell_type": "code",
   "execution_count": 64,
   "id": "976d7215",
   "metadata": {},
   "outputs": [],
   "source": [
    "class MatriceModel:\n",
    "    def __init__(self):\n",
    "        self.weights = None\n",
    "        self.bias = 0\n",
    "    def predict(self, X, y, epochs):\n",
    "        self.weights = np.zeros(X.shape[1])\n",
    "\n",
    "        for epoch in range(epochs):\n",
    "#             print(f\"self.weights are {self.weights, self.bias}\")\n",
    "            y_pred = np.dot(X, self.weights) + self.bias\n",
    "#             print(f\"y_pred :\", y_pred)\n",
    "            error = y_pred - y\n",
    "#             print(f\"error : {error}\")\n",
    "            # Calculate the gradients\n",
    "            dw = np.dot(X.T, error) / X.shape[0]\n",
    "            db = np.sum(error) / X.shape[0]\n",
    "            \n",
    "            if epoch % 10 == 0 :\n",
    "                display(f\"Epoch :{epoch} error: {sum(error)}\")\n",
    "                \n",
    "            # Update the weights and bias using the gradients and a learning rate\n",
    "            learning_rate = 0.01\n",
    "            self.weights = self.weights - learning_rate*dw\n",
    "            self.bias = self.bias - learning_rate*db\n",
    "\n",
    "        return y_pred"
   ]
  },
  {
   "cell_type": "code",
   "execution_count": 66,
   "id": "4bb2e1eb-c42a-48c6-97f8-1f8c5dcb7c67",
   "metadata": {
    "tags": []
   },
   "outputs": [
    {
     "data": {
      "text/plain": [
       "(4,)"
      ]
     },
     "execution_count": 66,
     "metadata": {},
     "output_type": "execute_result"
    }
   ],
   "source": [
    "data = np.array([[1,2,3],[1,0,2],[3,2,4],[4,1,4]])\n",
    "target = np.array([1,2,3,4])\n",
    "\n",
    "model = MatriceModel()\n",
    "# y_pred = model.predict(data, target, 100)\n",
    "target.shape\n",
    "## Weight Gradeints Calculation\n",
    "# print(data.T, (y_pred - target) )\n",
    "# np.dot(data.T, (y_pred - target) )"
   ]
  },
  {
   "cell_type": "code",
   "execution_count": 52,
   "id": "5d1727c5-e819-474d-978f-91a6b05bc701",
   "metadata": {
    "tags": []
   },
   "outputs": [
    {
     "data": {
      "text/plain": [
       "0.41765"
      ]
     },
     "execution_count": 52,
     "metadata": {},
     "output_type": "execute_result"
    }
   ],
   "source": [
    "1.0*0.07 + 2.0*0.03 + 3.0*0.08755 + 0.025"
   ]
  },
  {
   "cell_type": "code",
   "execution_count": 4,
   "id": "8083cb03-2d85-49fd-a1f9-ed18caa7fba0",
   "metadata": {},
   "outputs": [
    {
     "ename": "SyntaxError",
     "evalue": "cannot assign to expression (562572520.py, line 4)",
     "output_type": "error",
     "traceback": [
      "\u001b[1;36m  Cell \u001b[1;32mIn[4], line 4\u001b[1;36m\u001b[0m\n\u001b[1;33m    dot_product = (1 * 0.5) + (2 * 0.2) + (3 * 0.1) = 0.5 + 0.4 + 0.3 = 1.2\u001b[0m\n\u001b[1;37m                  ^\u001b[0m\n\u001b[1;31mSyntaxError\u001b[0m\u001b[1;31m:\u001b[0m cannot assign to expression\n"
     ]
    }
   ],
   "source": [
    "data[0] = [1, 2, 3]\n",
    "weights = [[0.5], [0.2], [0.1]]\n",
    "\n",
    "dot_product = (1 * 0.5) + (2 * 0.2) + (3 * 0.1) = 0.5 + 0.4 + 0.3 = 1.2\n"
   ]
  },
  {
   "cell_type": "code",
   "execution_count": null,
   "id": "9ed631ab",
   "metadata": {},
   "outputs": [],
   "source": []
  }
 ],
 "metadata": {
  "kernelspec": {
   "display_name": "Python 3 (ipykernel)",
   "language": "python",
   "name": "python3"
  },
  "language_info": {
   "codemirror_mode": {
    "name": "ipython",
    "version": 3
   },
   "file_extension": ".py",
   "mimetype": "text/x-python",
   "name": "python",
   "nbconvert_exporter": "python",
   "pygments_lexer": "ipython3",
   "version": "3.11.3"
  }
 },
 "nbformat": 4,
 "nbformat_minor": 5
}
