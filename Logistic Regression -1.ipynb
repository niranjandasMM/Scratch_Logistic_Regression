{
 "cells": [
  {
   "cell_type": "code",
   "execution_count": 2,
   "id": "234b9397",
   "metadata": {
    "tags": []
   },
   "outputs": [],
   "source": [
    "import pandas as pd\n",
    "import numpy as np\n",
    "import sys\n",
    "from sklearn import datasets\n",
    "from sklearn.metrics import r2_score\n",
    "from sklearn.model_selection import train_test_split"
   ]
  },
  {
   "cell_type": "code",
   "execution_count": 3,
   "id": "ac29d0ea",
   "metadata": {
    "tags": []
   },
   "outputs": [],
   "source": [
    "def sigmoid(z):\n",
    "    return 1.0 / (1.0 + np.exp(-z))\n",
    "\n",
    "def binary_cross_entropy(y_true, y_pred):\n",
    "    epsilon = 1e-15  # Small constant to avoid log(0)\n",
    "    y_pred = np.clip(y_pred, epsilon, 1 - epsilon)  # Clip values to avoid log(0) and log(1)\n",
    "    return -np.mean(y_true * np.log(y_pred) + (1 - y_true) * np.log(1 - y_pred))\n"
   ]
  },
  {
   "cell_type": "code",
   "execution_count": 46,
   "id": "a7540e16",
   "metadata": {
    "tags": []
   },
   "outputs": [],
   "source": [
    "class LogisticRegression:\n",
    "    def __init__(self, lr):\n",
    "        self.weights = None\n",
    "        self.bias = 0\n",
    "        self.lr = lr\n",
    "    \n",
    "    def optimize(self, X, y, y_pred):\n",
    "        n = X.shape[0]\n",
    "        error = y_pred-y\n",
    "        \n",
    "        dw = (1/n) *  np.dot(X.T, error)  \n",
    "        db = (1/n) * np.sum(error) \n",
    "        \n",
    "        self.weights = self.weights - self.lr*dw\n",
    "        self.bias = self.bias - self.lr*db\n",
    "    \n",
    "    def predict(self, X, test=False):\n",
    "        y_pred = np.dot(X, self.weights) + self.bias\n",
    "        y_pred = sigmoid(y_pred)\n",
    "        if test :\n",
    "            y_pred = [0 if y<=0.5 else 1 for y in y_pred]\n",
    "        return y_pred \n",
    "    \n",
    "    def train(self, X, y, epochs):\n",
    "        n_samples, n_features = X.shape\n",
    "        self.weights = np.zeros(n_features)\n",
    "        for epoch in range(epochs):\n",
    "            y_pred = self.predict(X)\n",
    "                                               \n",
    "            ## Calculating error using Cross entropy \n",
    "            error = binary_cross_entropy(y, y_pred)\n",
    "\n",
    "            ## Gradient descent OPtimation to Update WEights\n",
    "            self.optimize(X, y, y_pred)\n",
    "            \n",
    "            if epoch % 10 == 0:\n",
    "                sys.stdout.write(\n",
    "                    \"\\n\" +\n",
    "                    \"I:\" + str(epoch) +\n",
    "                    \" Train-Err:\" + str(error / float(len(X_train)))[0:5] + \n",
    "                    \"\\n\"\n",
    "                )\n",
    "        return y_pred"
   ]
  },
  {
   "cell_type": "code",
   "execution_count": null,
   "id": "0cffe0cc",
   "metadata": {
    "tags": []
   },
   "outputs": [],
   "source": []
  },
  {
   "cell_type": "code",
   "execution_count": 47,
   "id": "7c1a9608",
   "metadata": {},
   "outputs": [
    {
     "data": {
      "text/plain": [
       "(455,)"
      ]
     },
     "execution_count": 47,
     "metadata": {},
     "output_type": "execute_result"
    }
   ],
   "source": [
    "data = datasets.load_breast_cancer()\n",
    "features = pd.DataFrame(data['data'])\n",
    "target = pd.DataFrame(data['target'])\n",
    "\n",
    "X_train, X_test, y_train, y_test = train_test_split(features, target, test_size=0.2, random_state=42)\n",
    "\n",
    "\n",
    "# # Reshape y_train from (80,) to (80, 1)\n",
    "y_train = np.array(y_train) ; y_train = y_train.reshape(-1)\n",
    "y_test = np.array(y_test) ; y_test = y_test.reshape(-1)\n",
    "\n",
    "X_train = np.array(X_train)\n",
    "X_test = np.array(X_test)\n",
    "\n",
    "y_train.shape"
   ]
  },
  {
   "cell_type": "code",
   "execution_count": 48,
   "id": "fd8b77ff",
   "metadata": {
    "tags": []
   },
   "outputs": [
    {
     "name": "stdout",
     "output_type": "stream",
     "text": [
      "\n",
      "I:0 Train-Err:0.001\n",
      "\n",
      "I:10 Train-Err:0.047\n",
      "\n",
      "I:20 Train-Err:0.047\n",
      "\n",
      "I:30 Train-Err:0.047\n",
      "\n",
      "I:40 Train-Err:0.047\n",
      "\n",
      "I:50 Train-Err:0.047\n",
      "\n",
      "I:60 Train-Err:0.047\n",
      "\n",
      "I:70 Train-Err:0.047\n",
      "\n",
      "I:80 Train-Err:0.047\n",
      "\n",
      "I:90 Train-Err:0.047\n"
     ]
    },
    {
     "name": "stderr",
     "output_type": "stream",
     "text": [
      "C:\\Users\\niran\\AppData\\Local\\Temp\\ipykernel_21084\\19281955.py:2: RuntimeWarning: overflow encountered in exp\n",
      "  return 1.0 / (1.0 + np.exp(-z))\n"
     ]
    }
   ],
   "source": [
    "model = LogisticRegression(lr=0.01)\n",
    "\n",
    "y_pred = model.train(X_train, y_train, epochs=100)\n",
    "y_test_pred = model.predict(X_test)\n"
   ]
  },
  {
   "cell_type": "code",
   "execution_count": null,
   "id": "5264ab51",
   "metadata": {},
   "outputs": [],
   "source": []
  }
 ],
 "metadata": {
  "kernelspec": {
   "display_name": "Python 3 (ipykernel)",
   "language": "python",
   "name": "python3"
  },
  "language_info": {
   "codemirror_mode": {
    "name": "ipython",
    "version": 3
   },
   "file_extension": ".py",
   "mimetype": "text/x-python",
   "name": "python",
   "nbconvert_exporter": "python",
   "pygments_lexer": "ipython3",
   "version": "3.11.3"
  }
 },
 "nbformat": 4,
 "nbformat_minor": 5
}
